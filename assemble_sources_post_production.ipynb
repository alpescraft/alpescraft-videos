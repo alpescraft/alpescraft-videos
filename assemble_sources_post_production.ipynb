{
 "cells": [
  {
   "cell_type": "code",
   "execution_count": null,
   "metadata": {
    "collapsed": true
   },
   "outputs": [],
   "source": [
    "\n",
    "# sjdf\n",
    "\n",
    "    starting_time = file_creation_date + seconds_in_video_where_action_starts\n",
    "    starting_second = to_seconds(starting_time - second_file_create_time)"
   ]
  },
  {
   "cell_type": "markdown",
   "source": [],
   "metadata": {
    "collapsed": false
   }
  },
  {
   "cell_type": "code",
   "execution_count": null,
   "outputs": [],
   "source": [
    "\n",
    "from enum import Enum\n",
    "from typing import List\n",
    "\n",
    "\n",
    "def get_file_creation_millis(file: str) -> int:\n",
    "        pass\n",
    "\n",
    "class SourceType(Enum):\n",
    "    Audio=\"audio\",\n",
    "    Video=\"video\",\n",
    "\n",
    "\n",
    "\n",
    "class SourceStartingOffset:\n",
    "    filename: str\n",
    "    offset_millis: int\n",
    "    source_type: SourceType\n",
    "\n",
    "class SourceStartingOffsets:\n",
    "    sources: List[SourceStartingOffset]\n",
    "\n",
    "\n",
    "class Source:\n",
    "    creation_time_millis: int\n",
    "    file_name: str\n",
    "\n",
    "## input\n",
    "# audio_source, speaker_source, slide_source\n",
    "\n",
    "## output\n",
    "# CompositeVideo\n",
    "\n",
    "\n",
    "\n",
    "file_creation_date =\n",
    "starting_time = file_creation_date + seconds_in_video_where_action_starts\n",
    "starting_second = to_seconds(starting_time - second_file_create_time)"
   ],
   "metadata": {
    "collapsed": false
   }
  }
 ],
 "metadata": {
  "kernelspec": {
   "display_name": "Python 3",
   "language": "python",
   "name": "python3"
  },
  "language_info": {
   "codemirror_mode": {
    "name": "ipython",
    "version": 2
   },
   "file_extension": ".py",
   "mimetype": "text/x-python",
   "name": "python",
   "nbconvert_exporter": "python",
   "pygments_lexer": "ipython2",
   "version": "2.7.6"
  }
 },
 "nbformat": 4,
 "nbformat_minor": 0
}
